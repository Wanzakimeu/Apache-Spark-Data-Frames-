{
  "nbformat": 4,
  "nbformat_minor": 0,
  "metadata": {
    "colab": {
      "provenance": [],
      "collapsed_sections": [
        "kLG2VTrnTvYL",
        "XecOwPNorl2W",
        "J4wfHZwQrs-t",
        "a9BPYqunry97",
        "7KMRBJ7zr9HD",
        "UtwSX1FmVPtw",
        "JKiQBwQuVd9k",
        "iUNbvIvnT7ep",
        "7DfcfGbJzmjb",
        "MhSd2y20znQo",
        "4kGRdhq8z6xR",
        "SZ7W3Iue0Eme",
        "jA28XDA03Q9-",
        "qI23jTyh5XDU",
        "H6HR28mq6mg5",
        "cYxDL80GT7KT",
        "n9G5XaZ2T8q6"
      ],
      "toc_visible": true
    },
    "kernelspec": {
      "name": "python3",
      "display_name": "Python 3"
    }
  },
  "cells": [
    {
      "cell_type": "markdown",
      "metadata": {
        "id": "eF3cTlYmPj-Q"
      },
      "source": [
        "# <font color='#2F4F4F'>AfterWork Data Science: Text Summarization with Python - Project</font>"
      ]
    },
    {
      "cell_type": "markdown",
      "metadata": {
        "id": "kLG2VTrnTvYL"
      },
      "source": [
        "## <font color='#2F4F4F'> Business Understading </font>"
      ]
    },
    {
      "cell_type": "markdown",
      "metadata": {
        "id": "XecOwPNorl2W"
      },
      "source": [
        "### a) Specifying the Research Question\n",
        "\n",
        "As a Data professional, you need to perform an analysis by answering questions about some stock market data on Safaricom from the years 2012-2017."
      ]
    },
    {
      "cell_type": "markdown",
      "metadata": {
        "id": "a9BPYqunry97"
      },
      "source": [
        "### c) Understanding the Context \n",
        "\n",
        "As a Data professional, you need to perform an analysis by answering questions about\n",
        "some stock market data on Safaricom from the years 2012-2017.\n",
        "You will need to perform the following:\n",
        "\n",
        "Data Importation and Exploration\n",
        "\n",
        "\n",
        "1.   Start a spark session and load the stock file while inferring the data   \n",
        "     types.\n",
        "2.   Determine the column names.\n",
        "3.   Make observations about the schema.\n",
        "4.   Show the first 5 rows.\n",
        "5.   Use the describe method to learn about the data frame.\n"
      ]
    },
    {
      "cell_type": "markdown",
      "source": [
        "### c) Data Preparation\n",
        "\n",
        "1.   Format all the data to 2 decimal places i.e. format_number()\n",
        "2.   Create a new data frame with a column called HV Ratio that is the ratio of  the High Price versus volume of stock traded for a day\n",
        "\n"
      ],
      "metadata": {
        "id": "vIDJ-PnRSaTS"
      }
    },
    {
      "cell_type": "markdown",
      "source": [
        "### d) Data Analysis\n",
        "\n",
        "\n",
        "*   What day had the Peak High in Price?\n",
        "*   What is the mean of the Close column?\n",
        "*   What is the max and min of the Volume column?\n",
        "*   How many days was the Close lower than 60 dollars?\n",
        "*   What percentage of the time was the High greater than 80 dollars?\n",
        "*   What is the Pearson correlation between High and Volume?\n",
        "*   What is the max High per year?\n",
        "*   What is the average Close for each Calendar Month?\n"
      ],
      "metadata": {
        "id": "zOAHmmwOSsM2"
      }
    },
    {
      "cell_type": "markdown",
      "metadata": {
        "id": "7KMRBJ7zr9HD"
      },
      "source": [
        "### d) Recording the Experimental Design\n",
        "\n",
        "* Business Understanding\n",
        "* Data Importation\n",
        "* Data Exploration\n",
        "* Text Preprocessing \n",
        "* Sentence Tokenization\n",
        "* Word Tokenization\n",
        "* Weighted Frequency of Occurence\n",
        "* Summarization\n"
      ]
    },
    {
      "cell_type": "markdown",
      "source": [
        "## <font color='#2F4F4F'>Pre-requisites </font>"
      ],
      "metadata": {
        "id": "tQPGUEsMTSxh"
      }
    },
    {
      "cell_type": "code",
      "source": [
        "# To use Pyspark in Colab, We'll first install it\n",
        "# ---\n",
        "#\n",
        "!pip install pyspark"
      ],
      "metadata": {
        "colab": {
          "base_uri": "https://localhost:8080/"
        },
        "id": "KDqVR35NTZut",
        "outputId": "b0a721f8-730a-4674-e317-8cce37855ed6"
      },
      "execution_count": 2,
      "outputs": [
        {
          "output_type": "stream",
          "name": "stdout",
          "text": [
            "Looking in indexes: https://pypi.org/simple, https://us-python.pkg.dev/colab-wheels/public/simple/\n",
            "Collecting pyspark\n",
            "  Downloading pyspark-3.3.0.tar.gz (281.3 MB)\n",
            "\u001b[K     |████████████████████████████████| 281.3 MB 44 kB/s \n",
            "\u001b[?25hCollecting py4j==0.10.9.5\n",
            "  Downloading py4j-0.10.9.5-py2.py3-none-any.whl (199 kB)\n",
            "\u001b[K     |████████████████████████████████| 199 kB 51.5 MB/s \n",
            "\u001b[?25hBuilding wheels for collected packages: pyspark\n",
            "  Building wheel for pyspark (setup.py) ... \u001b[?25l\u001b[?25hdone\n",
            "  Created wheel for pyspark: filename=pyspark-3.3.0-py2.py3-none-any.whl size=281764026 sha256=94ec20be15f9b1bc3fa466c6b7005bfc40ba57c9c8b51c99b3f94502ff96535c\n",
            "  Stored in directory: /root/.cache/pip/wheels/7a/8e/1b/f73a52650d2e5f337708d9f6a1750d451a7349a867f928b885\n",
            "Successfully built pyspark\n",
            "Installing collected packages: py4j, pyspark\n",
            "Successfully installed py4j-0.10.9.5 pyspark-3.3.0\n"
          ]
        }
      ]
    },
    {
      "cell_type": "code",
      "source": [
        "# Next, we'll run a local spark session\n",
        "# ---\n",
        "#\n",
        "from pyspark.sql import SparkSession\n",
        "spark = SparkSession.builder.master(\"local[*]\").getOrCreate()\n",
        "sc = spark.sparkContext"
      ],
      "metadata": {
        "id": "Me9LeSkhV4nd"
      },
      "execution_count": 3,
      "outputs": []
    },
    {
      "cell_type": "markdown",
      "source": [
        "Data Importation\n",
        "## <font color='#2F4F4F'>Data Importation and Preparation </font>"
      ],
      "metadata": {
        "id": "DVRrZoqmWTmb"
      }
    },
    {
      "cell_type": "code",
      "source": [
        "from pyspark.sql import SQLContext\n",
        "import warnings\n",
        "warnings.filterwarnings('ignore')\n",
        "# Pass in the SparkContext object `sc`\n",
        "sqlCtx = SQLContext(sc)\n",
        "\n",
        "# Read csv data into a DataFrame object `df`\n",
        "df = sqlCtx.read.csv(\"saf_stock.csv\")\n",
        "\n",
        "# Print the type\n",
        "print(type(df))"
      ],
      "metadata": {
        "colab": {
          "base_uri": "https://localhost:8080/"
        },
        "id": "FXmX9bHUWdCh",
        "outputId": "eafc11ad-591b-4b4b-e128-275c9e1f45f9"
      },
      "execution_count": 5,
      "outputs": [
        {
          "output_type": "stream",
          "name": "stdout",
          "text": [
            "<class 'pyspark.sql.dataframe.DataFrame'>\n"
          ]
        }
      ]
    },
    {
      "cell_type": "code",
      "source": [
        "# Determine the column names\n",
        "# ---\n",
        "#\n",
        "df = sqlCtx.read.csv(\"saf_stock.csv\", header=True)\n",
        "print(df.columns)"
      ],
      "metadata": {
        "colab": {
          "base_uri": "https://localhost:8080/"
        },
        "id": "pGvX-2FbXPn4",
        "outputId": "409d0633-df12-4851-b10b-097f65bc7dc0"
      },
      "execution_count": 6,
      "outputs": [
        {
          "output_type": "stream",
          "name": "stdout",
          "text": [
            "['Date', 'Open', 'High', 'Low', 'Close', 'Volume', 'Adj Close']\n"
          ]
        }
      ]
    },
    {
      "cell_type": "code",
      "source": [
        "# Show the first 5 rows\n",
        "df.show(3)"
      ],
      "metadata": {
        "colab": {
          "base_uri": "https://localhost:8080/"
        },
        "id": "FSfELvy6XUMM",
        "outputId": "2e222bc7-1d71-43ea-b0a0-cce43416bc52"
      },
      "execution_count": 8,
      "outputs": [
        {
          "output_type": "stream",
          "name": "stdout",
          "text": [
            "+----------+------------------+---------+---------+------------------+--------+------------------+\n",
            "|      Date|              Open|     High|      Low|             Close|  Volume|         Adj Close|\n",
            "+----------+------------------+---------+---------+------------------+--------+------------------+\n",
            "|2012-01-03|         59.970001|61.060001|59.869999|         60.330002|12668800|52.619234999999996|\n",
            "|2012-01-04|60.209998999999996|60.349998|59.470001|59.709998999999996| 9593300|         52.078475|\n",
            "|2012-01-05|         59.349998|59.619999|58.369999|         59.419998|12768200|         51.825539|\n",
            "+----------+------------------+---------+---------+------------------+--------+------------------+\n",
            "only showing top 3 rows\n",
            "\n"
          ]
        }
      ]
    },
    {
      "cell_type": "code",
      "source": [
        "# Use the describe method to learn about the data frame Data Preparation\n",
        "df.describe().show()"
      ],
      "metadata": {
        "colab": {
          "base_uri": "https://localhost:8080/"
        },
        "id": "pW4M68DbXXvL",
        "outputId": "54bbe0a2-056d-4fb9-b600-a86e6947b06e"
      },
      "execution_count": 9,
      "outputs": [
        {
          "output_type": "stream",
          "name": "stdout",
          "text": [
            "+-------+----------+------------------+-----------------+-----------------+-----------------+-----------------+-----------------+\n",
            "|summary|      Date|              Open|             High|              Low|            Close|           Volume|        Adj Close|\n",
            "+-------+----------+------------------+-----------------+-----------------+-----------------+-----------------+-----------------+\n",
            "|  count|      1258|              1258|             1258|             1258|             1258|             1258|             1258|\n",
            "|   mean|      null| 72.35785375357709|72.83938807631165| 71.9186009594594|72.38844998012726|8222093.481717011|67.23883848728146|\n",
            "| stddev|      null|  6.76809024470826|6.768186808159218|6.744075756255496|6.756859163732991|  4519780.8431556|6.722609449996857|\n",
            "|    min|2012-01-03|56.389998999999996|        57.060001|        56.299999|        56.419998|         10010500|        50.363689|\n",
            "|    max|2016-12-30|         90.800003|        90.970001|            89.25|        90.470001|          9994400|84.91421600000001|\n",
            "+-------+----------+------------------+-----------------+-----------------+-----------------+-----------------+-----------------+\n",
            "\n"
          ]
        }
      ]
    },
    {
      "cell_type": "code",
      "source": [
        "# Format all the data to 2 decimal places i.e. format_number()\n",
        "\n",
        "from pyspark.sql.functions import format_number\n",
        "\n",
        "df_2_decimal=df.select(df['Date'],format_number(df['Open'].cast('float'),2).alias('Open'),\n",
        "              format_number(df['High'].cast('float'), 2).alias('High'),\n",
        "              format_number(df['Low'].cast('float'), 2).alias('Low'),\n",
        "              format_number(df['Close'].cast('float'), 2).alias('Close'),\n",
        "              df['Volume'].cast('int').alias('Volume'),\n",
        "              format_number(df['Adj Close'].cast('float'), 2).alias('Adj Close')\n",
        "              )\n",
        "\n",
        "df_2_decimal.show(5)"
      ],
      "metadata": {
        "colab": {
          "base_uri": "https://localhost:8080/"
        },
        "id": "VbSywnnnXemF",
        "outputId": "057042aa-62b1-43ca-a402-ac213e89ca7e"
      },
      "execution_count": 11,
      "outputs": [
        {
          "output_type": "stream",
          "name": "stdout",
          "text": [
            "+----------+-----+-----+-----+-----+--------+---------+\n",
            "|      Date| Open| High|  Low|Close|  Volume|Adj Close|\n",
            "+----------+-----+-----+-----+-----+--------+---------+\n",
            "|2012-01-03|59.97|61.06|59.87|60.33|12668800|    52.62|\n",
            "|2012-01-04|60.21|60.35|59.47|59.71| 9593300|    52.08|\n",
            "|2012-01-05|59.35|59.62|58.37|59.42|12768200|    51.83|\n",
            "|2012-01-06|59.42|59.45|58.87|59.00| 8069400|    51.46|\n",
            "|2012-01-09|59.03|59.55|58.92|59.18| 6679300|    51.62|\n",
            "+----------+-----+-----+-----+-----+--------+---------+\n",
            "only showing top 5 rows\n",
            "\n"
          ]
        }
      ]
    },
    {
      "cell_type": "code",
      "source": [
        "#Create a new data frame with a column called HV Ratio that is the ratio of the High Price versus volume of stock traded for a day\n",
        "\n",
        "new_df = df_2_decimal.withColumn(\"HV Ratio\",df_2_decimal['High']/df_2_decimal['Volume'])\n",
        "print(new_df.show(5))"
      ],
      "metadata": {
        "colab": {
          "base_uri": "https://localhost:8080/"
        },
        "id": "_gJn6ShTXmtr",
        "outputId": "f389e1f2-d1af-4dcd-adef-3429bccc3d9f"
      },
      "execution_count": 12,
      "outputs": [
        {
          "output_type": "stream",
          "name": "stdout",
          "text": [
            "+----------+-----+-----+-----+-----+--------+---------+--------------------+\n",
            "|      Date| Open| High|  Low|Close|  Volume|Adj Close|            HV Ratio|\n",
            "+----------+-----+-----+-----+-----+--------+---------+--------------------+\n",
            "|2012-01-03|59.97|61.06|59.87|60.33|12668800|    52.62|4.819714574387472E-6|\n",
            "|2012-01-04|60.21|60.35|59.47|59.71| 9593300|    52.08|6.290848821573389...|\n",
            "|2012-01-05|59.35|59.62|58.37|59.42|12768200|    51.83|4.669413073103491E-6|\n",
            "|2012-01-06|59.42|59.45|58.87|59.00| 8069400|    51.46|7.367338339901356E-6|\n",
            "|2012-01-09|59.03|59.55|58.92|59.18| 6679300|    51.62|8.915604928660188E-6|\n",
            "+----------+-----+-----+-----+-----+--------+---------+--------------------+\n",
            "only showing top 5 rows\n",
            "\n",
            "None\n"
          ]
        }
      ]
    },
    {
      "cell_type": "markdown",
      "source": [
        "## <font color='#2F4F4F'> Data Analysis </font>"
      ],
      "metadata": {
        "id": "AiuuOdmZXpTi"
      }
    },
    {
      "cell_type": "code",
      "source": [
        "# What day had the Peak High in Price?\n",
        "print(new_df.orderBy(new_df['High'].desc()).head(1)[0][0])"
      ],
      "metadata": {
        "colab": {
          "base_uri": "https://localhost:8080/"
        },
        "id": "FoN7hx67YETE",
        "outputId": "4219914f-e088-4838-8042-ad7dfb70f60c"
      },
      "execution_count": 13,
      "outputs": [
        {
          "output_type": "stream",
          "name": "stdout",
          "text": [
            "2015-01-13\n"
          ]
        }
      ]
    },
    {
      "cell_type": "code",
      "source": [
        "# What is the mean of the Close column?\n",
        "from pyspark.sql.functions import mean, max, min\n",
        "\n",
        "print(new_df.select(mean('Close')).show())"
      ],
      "metadata": {
        "colab": {
          "base_uri": "https://localhost:8080/"
        },
        "id": "s8gtShCMYF2F",
        "outputId": "47aa10e0-0277-4b0b-bc00-3a447e5a7435"
      },
      "execution_count": 14,
      "outputs": [
        {
          "output_type": "stream",
          "name": "stdout",
          "text": [
            "+-----------------+\n",
            "|       avg(Close)|\n",
            "+-----------------+\n",
            "|72.38844992050863|\n",
            "+-----------------+\n",
            "\n",
            "None\n"
          ]
        }
      ]
    },
    {
      "cell_type": "code",
      "source": [
        "# What is the max and min of the Volume column?\n",
        "print(new_df.select(min('Volume'),max('Volume')).show())"
      ],
      "metadata": {
        "colab": {
          "base_uri": "https://localhost:8080/"
        },
        "id": "FaZTsQ4uYHYo",
        "outputId": "3054c166-91e0-49fc-80ac-79f7d842e04c"
      },
      "execution_count": 15,
      "outputs": [
        {
          "output_type": "stream",
          "name": "stdout",
          "text": [
            "+-----------+-----------+\n",
            "|min(Volume)|max(Volume)|\n",
            "+-----------+-----------+\n",
            "|    2094900|   80898100|\n",
            "+-----------+-----------+\n",
            "\n",
            "None\n"
          ]
        }
      ]
    },
    {
      "cell_type": "code",
      "source": [
        "# How many days was the Close lower than 60 dollars?\n",
        "print(new_df.filter(new_df['Close'] < 60).count())"
      ],
      "metadata": {
        "colab": {
          "base_uri": "https://localhost:8080/"
        },
        "id": "xnkwUAa3YJi0",
        "outputId": "554e9834-ca0c-4578-cf67-4eaab6f8450f"
      },
      "execution_count": 16,
      "outputs": [
        {
          "output_type": "stream",
          "name": "stdout",
          "text": [
            "81\n"
          ]
        }
      ]
    },
    {
      "cell_type": "code",
      "source": [
        "# What percentage of the time was the High greater than 80 dollars?\n",
        "print((new_df.filter(new_df['High']>80).count()/df.count()) * 100)"
      ],
      "metadata": {
        "colab": {
          "base_uri": "https://localhost:8080/"
        },
        "id": "Wlfz9jMYYL7s",
        "outputId": "53f58a4c-883c-4a83-e5b3-e116c3d78b2d"
      },
      "execution_count": 17,
      "outputs": [
        {
          "output_type": "stream",
          "name": "stdout",
          "text": [
            "8.426073131955485\n"
          ]
        }
      ]
    },
    {
      "cell_type": "code",
      "source": [
        "# What is the Pearson correlation between High and Volume?\n",
        "from pyspark.sql.functions import corr\n",
        "\n",
        "print(new_df.select(corr('High','Volume')).show())"
      ],
      "metadata": {
        "colab": {
          "base_uri": "https://localhost:8080/"
        },
        "id": "AoEkVy7cYOP4",
        "outputId": "76fa7306-fd12-41a9-b04c-55491fc5d99d"
      },
      "execution_count": 18,
      "outputs": [
        {
          "output_type": "stream",
          "name": "stdout",
          "text": [
            "+--------------------+\n",
            "|  corr(High, Volume)|\n",
            "+--------------------+\n",
            "|-0.33843260582148915|\n",
            "+--------------------+\n",
            "\n",
            "None\n"
          ]
        }
      ]
    },
    {
      "cell_type": "code",
      "source": [
        "# What is the max High per year?\n",
        "\n",
        "from pyspark.sql import functions as F\n",
        "new_df.groupby(F.date_format('Date','yyyy').alias('Year')).agg({'High': 'max'}).sort('Year').show()"
      ],
      "metadata": {
        "colab": {
          "base_uri": "https://localhost:8080/"
        },
        "id": "wz8PuaqRYQeE",
        "outputId": "474eb027-398f-4900-dda8-4c90237ff638"
      },
      "execution_count": 19,
      "outputs": [
        {
          "output_type": "stream",
          "name": "stdout",
          "text": [
            "+----+---------+\n",
            "|Year|max(High)|\n",
            "+----+---------+\n",
            "|2012|    77.60|\n",
            "|2013|    81.37|\n",
            "|2014|    88.09|\n",
            "|2015|    90.97|\n",
            "|2016|    75.19|\n",
            "+----+---------+\n",
            "\n"
          ]
        }
      ]
    },
    {
      "cell_type": "code",
      "source": [
        "#What is the average Close for each Calendar Month?\n",
        "\n",
        "new_df.groupby(F.date_format('Date','MM').alias('Month')).agg({'Close': 'mean'}).sort('Month').show()"
      ],
      "metadata": {
        "colab": {
          "base_uri": "https://localhost:8080/"
        },
        "id": "tzm2bc7MYUtf",
        "outputId": "6a4f93dd-d3a6-4b09-ef0d-df1bcafc0407"
      },
      "execution_count": 20,
      "outputs": [
        {
          "output_type": "stream",
          "name": "stdout",
          "text": [
            "+-----+-----------------+\n",
            "|Month|       avg(Close)|\n",
            "+-----+-----------------+\n",
            "|   01|71.44801980198022|\n",
            "|   02|71.30680412371134|\n",
            "|   03|71.77794392523363|\n",
            "|   04|72.97361904761907|\n",
            "|   05|72.30971698113206|\n",
            "|   06|72.49537735849057|\n",
            "|   07|74.43971962616824|\n",
            "|   08|73.02981818181819|\n",
            "|   09|72.18411764705883|\n",
            "|   10|71.57854545454546|\n",
            "|   11|72.11108910891085|\n",
            "|   12|72.84792452830189|\n",
            "+-----+-----------------+\n",
            "\n"
          ]
        }
      ]
    }
  ]
}